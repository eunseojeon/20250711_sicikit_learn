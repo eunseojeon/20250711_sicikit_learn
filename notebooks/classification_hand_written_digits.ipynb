{
  "nbformat": 4,
  "nbformat_minor": 0,
  "metadata": {
    "colab": {
      "provenance": []
    },
    "kernelspec": {
      "name": "python3",
      "display_name": "Python 3"
    },
    "language_info": {
      "name": "python"
    }
  },
  "cells": [
    {
      "cell_type": "markdown",
      "source": [
        "# 1. Problem description\n",
        "\n",
        "- 목적: 수기로 씌어진 0-9까지의 숫자 이미지로부터 해당 숫자 식별 (ex. '1' > 1)\n",
        "\n"
      ],
      "metadata": {
        "id": "CiX8WO41xvP_"
      }
    },
    {
      "cell_type": "code",
      "execution_count": null,
      "metadata": {
        "id": "l1zlYs_ExU_0"
      },
      "outputs": [],
      "source": [
        "# Authors: The scikit-learn developers 이 코드는 scikit-learn 개발자들이 작성했음을 나타냅니다.\n",
        "# SPDX-License-Identifier: BSD-3-Clause  소스 코드의 라이선스가 BSD-3-Clause임을 명시합니다.\n",
        "\n",
        "# Standard scientific Python imports  표준 과학 연산용 파이썬 패키지를 임포트한다는 주석입니다.\n",
        "import matplotlib.pyplot as plt #데이터 시각화를 위한 matplotlib의 pyplot 모듈을 plt라는 이름으로 불러옵니다.\n",
        "\n",
        "# Import datasets, classifiers and performance metrics 데이터셋, 분류기, 성능 평가 지표를 임포트한다는 주석\n",
        "from sklearn import datasets, metrics, svm #scikit-learn에서 데이터셋 모듈, 평가 지표(metrics), SVM(서포트 벡터 머신) 분류기를 불러옵니다.\n",
        "from sklearn.model_selection import train_test_split #데이터를 훈련용과 테스트용으로 나누는 함수인 train_test_split을 임포트"
      ]
    },
    {
      "cell_type": "markdown",
      "source": [
        "# 2. Digits dataset\n",
        "\n",
        "- scikit-learn 라이브러리에서 이미지 분류 실습을 위해 제공되는 기본 데이터셋\n",
        "- Image size: 8-by-8 pixel (grayscale)\n",
        "- Sample 갯수: 1,797개\n",
        "- Classes: 10 (0-9)\n",
        "- Feature format (학습을 위한 데이터 형태): 1d array of 64 pixel values\n",
        "- Target (모델의 추론 결과): 0-9 사이 정수   "
      ],
      "metadata": {
        "id": "7p_T2GiGydKT"
      }
    },
    {
      "cell_type": "code",
      "source": [
        "# 숫자 이미지 데이터셋 로드\n",
        "digits = datasets.load_digits()\n",
        "\n",
        "# 1행 4열의 서브플롯(그림 영역) 생성, 그림 크기 설정\n",
        "_, axes = plt.subplots(nrows=1, ncols=4, figsize=(10, 3))\n",
        "\n",
        "# 각 축(ax), 이미지(image), 라벨(label)을 묶어서 반복\n",
        "for ax, image, label in zip(axes, digits.images, digits.target):  # 일부 이미지 시현\n",
        "    ax.set_axis_off()  # 축 눈금 및 테두리 제거\n",
        "    ax.imshow(image, cmap=plt.cm.gray_r, interpolation=\"nearest\")  # 이미지 표시(회색조)\n",
        "    ax.set_title(f\"학습 데이터: {label}\")  # 각 이미지 위에 라벨(숫자) 표시 (한국어로 변경)\n"
      ],
      "metadata": {
        "colab": {
          "base_uri": "https://localhost:8080/",
          "height": 205
        },
        "id": "1cd_-EcmyV5A",
        "outputId": "c9110cb4-9ca9-46f1-d4a1-4bc2cc7fe6c9"
      },
      "execution_count": 2,
      "outputs": [
        {
          "output_type": "display_data",
          "data": {
            "text/plain": [
              "<Figure size 1000x300 with 4 Axes>"
            ],
            "image/png": "[encoded data removed]"
          },
          "metadata": {}
        }
      ]
    },
    {
      "cell_type": "markdown",
      "source": [
        "# 3. Classification\n",
        "\n",
        "주어진 이미지를 0~9까지의 정수로 분류하기 위한 절차\n",
        "\n",
        "1.   이미지를 1D array로 변환\n",
        "- why? scikit-learn에서 학습 데이터는\n",
        "(n_samples, n_features) 의 2차원 배열 형태\n",
        "- 각 sample은 1차원 배열로 간주됨\n",
        "\n",
        "2. 전체 데이터셋을 학습 데이터(train subsets)와 테스트 데이터(test subsets)로 구분\n",
        "\n",
        "3. fit() method 호출 > 모델 학습\n",
        "\n",
        "4. predict() method 호출 > 테스트 데이터를 이용한 추론\n",
        "\n"
      ],
      "metadata": {
        "id": "7H_wlw6x0v7M"
      }
    },
    {
      "cell_type": "code",
      "source": [
        "from sklearn import svm # Import svm here\n",
        "from sklearn.model_selection import train_test_split # Import train_test_split here\n",
        "\n",
        "# 이미지 데이터 평탄화\n",
        "n_samples = len(digits.images)\n",
        "data = digits.images.reshape((n_samples, -1))  # (샘플 수, 64) 형태로 변환\n",
        "\n",
        "# SVM 분류기 생성\n",
        "clf = svm.SVC(gamma=0.001)\n",
        "\n",
        "# 데이터 50%씩 학습/테스트로 분할\n",
        "X_train, X_test, y_train, y_test = train_test_split(\n",
        "    data, digits.target, test_size=0.5, shuffle=False\n",
        ")\n",
        "\n",
        "# 학습 데이터로 모델 학습\n",
        "clf.fit(X_train, y_train)\n",
        "\n",
        "# 테스트 데이터 예측\n",
        "predicted = clf.predict(X_test)"
      ],
      "metadata": {
        "id": "nZLvhbGJ2d3C"
      },
      "execution_count": 6,
      "outputs": []
    },
    {
      "cell_type": "code",
      "source": [
        "# 추론 결과 중 일부 시각화\n",
        "_, axes = plt.subplots(nrows=1, ncols=4, figsize=(10, 3))  # 1행 4열 서브플롯 생성\n",
        "\n",
        "# 테스트 이미지와 예측 결과를 4개만 시각화\n",
        "for ax, image, prediction in zip(axes, X_test, predicted):\n",
        "    ax.set_axis_off()  # 축 눈금 및 테두리 제거\n",
        "    image = image.reshape(8, 8)  # 1차원 벡터를 8x8 이미지로 변환\n",
        "    ax.imshow(image, cmap=plt.cm.gray_r, interpolation=\"nearest\")  # 이미지 표시(회색조)\n",
        "    ax.set_title(f\"예측값: {prediction}\")  # 예측 결과를 한글로 표시"
      ],
      "metadata": {
        "colab": {
          "base_uri": "https://localhost:8080/",
          "height": 439
        },
        "id": "YLIj52fb3VdO",
        "outputId": "b2611dfa-cde9-4c22-a4a3-e19998257807"
      },
      "execution_count": 8,
      "outputs": [
        {
          "output_type": "stream",
          "name": "stderr",
          "text": [
            "/usr/local/lib/python3.11/dist-packages/IPython/core/events.py:89: UserWarning: Glyph 50696 (\\N{HANGUL SYLLABLE YE}) missing from font(s) DejaVu Sans.\n",
            "  func(*args, **kwargs)\n",
            "/usr/local/lib/python3.11/dist-packages/IPython/core/events.py:89: UserWarning: Glyph 52769 (\\N{HANGUL SYLLABLE CEUG}) missing from font(s) DejaVu Sans.\n",
            "  func(*args, **kwargs)\n",
            "/usr/local/lib/python3.11/dist-packages/IPython/core/events.py:89: UserWarning: Glyph 44050 (\\N{HANGUL SYLLABLE GABS}) missing from font(s) DejaVu Sans.\n",
            "  func(*args, **kwargs)\n",
            "/usr/local/lib/python3.11/dist-packages/IPython/core/pylabtools.py:151: UserWarning: Glyph 50696 (\\N{HANGUL SYLLABLE YE}) missing from font(s) DejaVu Sans.\n",
            "  fig.canvas.print_figure(bytes_io, **kw)\n",
            "/usr/local/lib/python3.11/dist-packages/IPython/core/pylabtools.py:151: UserWarning: Glyph 52769 (\\N{HANGUL SYLLABLE CEUG}) missing from font(s) DejaVu Sans.\n",
            "  fig.canvas.print_figure(bytes_io, **kw)\n",
            "/usr/local/lib/python3.11/dist-packages/IPython/core/pylabtools.py:151: UserWarning: Glyph 44050 (\\N{HANGUL SYLLABLE GABS}) missing from font(s) DejaVu Sans.\n",
            "  fig.canvas.print_figure(bytes_io, **kw)\n"
          ]
        },
        {
          "output_type": "display_data",
          "data": {
            "text/plain": [
              "<Figure size 1000x300 with 4 Axes>"
            ],
            "image/png": "[encoded data removed]"
          },
          "metadata": {}
        }
      ]
    },
    {
      "cell_type": "markdown",
      "source": [
        "# 4. Model Evaluation\n",
        "\n",
        "추론 결과와 정답 데이터로부터 모델의 분류 (classification) 성능 평가\n",
        "\n",
        "sklearn.metrics module: 모델 성능 평가를 위한 method 제공\n",
        "- classification metrics: 모델이 분류를 얼마나 잘 했는가?\n",
        "    - classification_report(): 분류 성능 측정 결과 출력\n",
        "- regression metrics: 모델이 수치 예측을 얼마나 잘 했는가?\n",
        "- clustering metrics: 모델이 군집화를 얼마나 잘 했는가?\n",
        "- ...\n"
      ],
      "metadata": {
        "id": "Mn78ho4v3xOh"
      }
    },
    {
      "cell_type": "markdown",
      "source": [
        "precision, recall, f1-score, support\n",
        "\n",
        "confusion matrix"
      ],
      "metadata": {
        "id": "TwhGdRb65XgI"
      }
    },
    {
      "cell_type": "code",
      "source": [
        "print(\n",
        "    f\"Classification report for classifier {clf}:\\n\"\n",
        "    f\"{metrics.classification_report(y_test, predicted)}\\n\"\n",
        ")"
      ],
      "metadata": {
        "colab": {
          "base_uri": "https://localhost:8080/"
        },
        "id": "cSmi551u3hOx",
        "outputId": "43891809-1f8c-4375-ff1b-d1862939a653"
      },
      "execution_count": null,
      "outputs": [
        {
          "output_type": "stream",
          "name": "stdout",
          "text": [
            "Classification report for classifier SVC(gamma=0.001):\n",
            "              precision    recall  f1-score   support\n",
            "\n",
            "           0       1.00      0.99      0.99        88\n",
            "           1       0.99      0.97      0.98        91\n",
            "           2       0.99      0.99      0.99        86\n",
            "           3       0.98      0.87      0.92        91\n",
            "           4       0.99      0.96      0.97        92\n",
            "           5       0.95      0.97      0.96        91\n",
            "           6       0.99      0.99      0.99        91\n",
            "           7       0.96      0.99      0.97        89\n",
            "           8       0.94      1.00      0.97        88\n",
            "           9       0.93      0.98      0.95        92\n",
            "\n",
            "    accuracy                           0.97       899\n",
            "   macro avg       0.97      0.97      0.97       899\n",
            "weighted avg       0.97      0.97      0.97       899\n",
            "\n",
            "\n"
          ]
        }
      ]
    },
    {
      "cell_type": "markdown",
      "source": [
        "- **precision, recall, f1-score**는 각 숫자(클래스)별로 산출됩니다.\n",
        "- **support**는 각 숫자별 테스트 데이터 개수입니다.\n",
        "- **accuracy**는 전체 테스트 데이터의 정확도입니다.\n",
        "- **macro avg**는 각 클래스별 지표의 단순 평균, **weighted avg**는 클래스별 데이터 개수를 반영한 가중 평균입니다."
      ],
      "metadata": {
        "id": "CiJtu_4kemqO"
      }
    }
  ]
}